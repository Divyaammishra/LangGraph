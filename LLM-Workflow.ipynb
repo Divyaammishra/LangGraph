{
 "cells": [
  {
   "cell_type": "code",
   "execution_count": 7,
   "id": "cb38f79b",
   "metadata": {},
   "outputs": [],
   "source": [
    "import os\n",
    "from dotenv import load_dotenv\n",
    "from typing import TypedDict\n",
    "from langchain_groq import ChatGroq\n",
    "from langgraph.graph import StateGraph, START, END"
   ]
  },
  {
   "cell_type": "code",
   "execution_count": 17,
   "id": "c1ac7467",
   "metadata": {},
   "outputs": [],
   "source": [
    "load_dotenv()\n",
    "\n",
    "model = ChatGroq(\n",
    "    api_key=os.getenv(\"GROQ_API_KEY\"),\n",
    "    model=\"llama-3.1-8b-instant\"\n",
    ")"
   ]
  },
  {
   "cell_type": "code",
   "execution_count": 18,
   "id": "32153faf",
   "metadata": {},
   "outputs": [],
   "source": [
    "#Create State\n",
    "\n",
    "class llm_state(TypedDict):\n",
    "\n",
    "    question: str\n",
    "    answer: str\n"
   ]
  },
  {
   "cell_type": "code",
   "execution_count": 20,
   "id": "534d4bb9",
   "metadata": {},
   "outputs": [],
   "source": [
    "def llm_qa(state: llm_state) -> llm_state:\n",
    "\n",
    "    #Extracting the question from state:\n",
    "    question = state['question']\n",
    "\n",
    "    #Creating a prompt:\n",
    "    prompt = f'Answer the following question {question}'\n",
    "\n",
    "    #Ask question to LLM\n",
    "    answer = model.invoke(prompt).content\n",
    "\n",
    "    #Update the answer in the state\n",
    "    state['answer'] = answer\n",
    "\n",
    "    return state\n",
    "\n"
   ]
  },
  {
   "cell_type": "code",
   "execution_count": 21,
   "id": "0b32ee89",
   "metadata": {},
   "outputs": [],
   "source": [
    "#Creating Graph\n",
    "\n",
    "graph = StateGraph(llm_state)\n",
    "\n",
    "#Adding Nodes\n",
    "graph.add_node('llm_qa', llm_qa)\n",
    "\n",
    "#Adding Edges\n",
    "graph.add_edge(START, 'llm_qa')\n",
    "graph.add_edge('llm_qa', END)\n",
    "\n",
    "#Compilation\n",
    "workflow = graph.compile()"
   ]
  },
  {
   "cell_type": "code",
   "execution_count": 23,
   "id": "7c4f32ff",
   "metadata": {},
   "outputs": [
    {
     "name": "stdout",
     "output_type": "stream",
     "text": [
      "While we have not yet found a definitive \"Earth 2.0\" in our solar system or another solar system, there are many promising candidates that could potentially support life. Here are some examples:\n",
      "\n",
      "**In our solar system:**\n",
      "\n",
      "1. **Mars:** NASA's Curiosity rover has found evidence of water on Mars, which is a crucial ingredient for life. While the Martian surface is harsh and hostile, some scientists believe that life could exist in subsurface aquifers or in the form of microbial life.\n",
      "2. **Europa (Jupiter's moon):** This icy moon has a subsurface ocean, which is thought to be in contact with the moon's rocky interior. This combination of water, heat, and nutrients makes Europa a prime candidate for hosting life.\n",
      "3. **Enceladus (Saturn's moon):** Similar to Europa, Enceladus has a subsurface ocean that is believed to be in contact with the moon's rocky core. This moon has geysers of water vapor and organic compounds, which are building blocks of life.\n",
      "\n",
      "**In other solar systems:**\n",
      "\n",
      "1. **Kepler-452b:** This exoplanet is about 60% larger in diameter than Earth and orbits a G-type star (similar to the Sun) every 385 days. Its surface temperature may be suitable for liquid water, which is essential for life.\n",
      "2. **TRAPPIST-1e:** One of seven Earth-sized planets in the TRAPPIST-1 system, this exoplanet orbits a small, ultracool dwarf star and is thought to be a rocky world with a thick atmosphere. Its distance from the star and potential for liquid water make it a promising candidate for hosting life.\n",
      "3. **Proxima b:** This exoplanet orbits Proxima Centauri, the closest star to the Sun, and is about 1.3 times the mass of Earth. Its surface temperature may be suitable for liquid water, and it is within the habitable zone of its star.\n",
      "\n",
      "**What makes a planet habitable?**\n",
      "\n",
      "To support life, a planet needs to have the following conditions:\n",
      "\n",
      "1. **Liquid water:** Water is essential for life as we know it, and it must be present in liquid form on the planet's surface.\n",
      "2. **Stable atmosphere:** A stable atmosphere helps to regulate the planet's temperature and protect it from harmful radiation.\n",
      "3. **Organic compounds:** The presence of organic compounds, such as carbon and hydrogen, is necessary for the building blocks of life.\n",
      "4. **Energy source:** A stable energy source, such as a star or a planetary core, is necessary to power life processes.\n",
      "5. **Habitable zone:** The planet must be located within the habitable zone of its star, where temperatures are suitable for liquid water to exist.\n",
      "\n",
      "While we have not yet found a definitive \"Earth 2.0,\" these candidates offer promising signs of potential habitability. Further research and exploration are needed to determine if life exists on any of these planets.\n"
     ]
    }
   ],
   "source": [
    "initial_state = {'question': 'Do you think, if there is another planet like earth where living is possible, in our solar system or another solar system'}\n",
    "\n",
    "final_state = workflow.invoke(initial_state)\n",
    "\n",
    "print(final_state['answer'])"
   ]
  }
 ],
 "metadata": {
  "kernelspec": {
   "display_name": "myenv",
   "language": "python",
   "name": "python3"
  },
  "language_info": {
   "codemirror_mode": {
    "name": "ipython",
    "version": 3
   },
   "file_extension": ".py",
   "mimetype": "text/x-python",
   "name": "python",
   "nbconvert_exporter": "python",
   "pygments_lexer": "ipython3",
   "version": "3.13.5"
  }
 },
 "nbformat": 4,
 "nbformat_minor": 5
}
