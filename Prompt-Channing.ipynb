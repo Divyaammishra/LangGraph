{
 "cells": [
  {
   "cell_type": "code",
   "execution_count": 1,
   "id": "a89445ab",
   "metadata": {},
   "outputs": [],
   "source": [
    "import os\n",
    "from dotenv import load_dotenv\n",
    "from typing import TypedDict\n",
    "from langchain_groq import ChatGroq\n",
    "from langgraph.graph import StateGraph, START, END\n"
   ]
  },
  {
   "cell_type": "code",
   "execution_count": 2,
   "id": "8c75d148",
   "metadata": {},
   "outputs": [],
   "source": [
    "load_dotenv()\n",
    "\n",
    "model = ChatGroq(\n",
    "    api_key=os.getenv(\"GROQ_API_KEY\"),\n",
    "    model=\"llama-3.1-8b-instant\"\n",
    ")"
   ]
  },
  {
   "cell_type": "code",
   "execution_count": 3,
   "id": "6c967a92",
   "metadata": {},
   "outputs": [],
   "source": [
    "#Creating State\n",
    "\n",
    "class blog_state(TypedDict):\n",
    "\n",
    "    title: str\n",
    "    outline: str\n",
    "    content: str"
   ]
  },
  {
   "cell_type": "code",
   "execution_count": 4,
   "id": "63e41a0c",
   "metadata": {},
   "outputs": [],
   "source": [
    "def create_outline(state: blog_state) -> blog_state:\n",
    "\n",
    "    #fetch title\n",
    "    title = state['title']\n",
    "\n",
    "    #Call LLM generate outline\n",
    "    prompt = f'Generate a detailed outline for a blog on the topic - {title}'\n",
    "    outline = model.invoke(prompt).content\n",
    "\n",
    "    #Update state\n",
    "    state['outline'] = outline\n",
    "\n",
    "    return state"
   ]
  },
  {
   "cell_type": "code",
   "execution_count": 5,
   "id": "f9cb4bff",
   "metadata": {},
   "outputs": [],
   "source": [
    "def create_blog(state: blog_state) -> blog_state:\n",
    "\n",
    "    #Fetch Outline\n",
    "    title = state['title']\n",
    "    outline = state['outline']\n",
    "\n",
    "    #Call LLM generate blog\n",
    "    prompt = f'Write a detailed blog on the title - {title} using the following outline \\n {outline}'\n",
    "\n",
    "    content = model.invoke(prompt).content\n",
    "\n",
    "    #Update state\n",
    "    state[content] = content\n",
    "\n",
    "    return state"
   ]
  },
  {
   "cell_type": "code",
   "execution_count": 7,
   "id": "98afe8ca",
   "metadata": {},
   "outputs": [],
   "source": [
    "graph = StateGraph(blog_state)\n",
    "\n",
    "graph.add_node('create_outline', create_outline)\n",
    "graph.add_node('create_blog', create_blog)\n",
    "\n",
    "\n",
    "graph.add_edge(START, 'create_outline')\n",
    "graph.add_edge('create_outline', 'create_blog')\n",
    "graph.add_edge('create_blog', END)\n",
    "\n",
    "workflow = graph.compile()"
   ]
  },
  {
   "cell_type": "code",
   "execution_count": 8,
   "id": "b575f045",
   "metadata": {},
   "outputs": [
    {
     "name": "stdout",
     "output_type": "stream",
     "text": [
      "{'title': 'rise of AI in world', 'outline': \"**Title:** The Rise of AI in the World: Transforming Industries and Revolutionizing Lives\\n\\n**I. Introduction**\\n\\n- Brief overview of the increasing importance of AI in modern society\\n- Importance of understanding the rise of AI and its impact on various industries\\n- Thesis statement: The rise of AI is transforming the world, revolutionizing industries, and changing lives, and its impact will only continue to grow in the coming years.\\n\\n**II. History of AI: From its Humble Beginnings to the Present Day**\\n\\n- Overview of the early days of AI, including the development of the first AI programs and the Dartmouth Summer Research Project on Artificial Intelligence in 1956\\n- Discussion of the key milestones in AI history, including the development of machine learning, natural language processing, and computer vision\\n- Explanation of how AI has evolved over time and how it has become more sophisticated and integrated into various industries\\n\\n**III. The Current State of AI: Applications and Industries**\\n\\n- Overview of the current applications of AI, including:\\n  - Virtual assistants (e.g. Siri, Alexa)\\n  - Image recognition and facial recognition\\n  - Natural language processing (e.g. chatbots, language translation)\\n  - Predictive analytics and decision-making\\n  - Autonomous vehicles and drones\\n- Discussion of the industries that are being transformed by AI, including:\\n  - Healthcare: diagnosis, treatment, and personalized medicine\\n  - Finance: risk management, portfolio optimization, and customer service\\n  - Education: personalized learning, adaptive learning, and virtual teaching\\n  - Manufacturing: quality control, predictive maintenance, and supply chain optimization\\n\\n**IV. The Benefits of AI: Improved Efficiency, Accuracy, and Decision-Making**\\n\\n- Discussion of the benefits of AI, including:\\n  - Improved efficiency and productivity\\n  - Increased accuracy and reduced errors\\n  - Enhanced decision-making and predictive capabilities\\n  - Improved customer experience and engagement\\n- Examples of companies that have successfully implemented AI and achieved significant benefits, including:\\n  - Amazon's use of AI for customer service and recommendations\\n  - Google's use of AI for image recognition and facial recognition\\n  - IBM's use of AI for predictive analytics and decision-making\\n\\n**V. The Challenges and Concerns of AI: Ethics, Bias, and Job Displacement**\\n\\n- Discussion of the challenges and concerns surrounding AI, including:\\n  - Bias and fairness in AI systems\\n  - Job displacement and unemployment\\n  - Ethics and accountability in AI development and deployment\\n  - Cybersecurity risks and vulnerabilities\\n- Examples of companies that have faced challenges and concerns related to AI, including:\\n  - Google's use of AI for facial recognition and bias concerns\\n  - Amazon's use of AI for hiring and bias concerns\\n  - Uber's use of AI for autonomous vehicles and job displacement concerns\\n\\n**VI. The Future of AI: Opportunities and Challenges Ahead**\\n\\n- Discussion of the opportunities and challenges that lie ahead for AI, including:\\n  - Increased adoption and integration of AI in various industries\\n  - Development of more advanced and sophisticated AI technologies\\n  - Growing concerns about bias, ethics, and job displacement\\n  - Potential for AI to exacerbate existing social and economic inequalities\\n- Examples of potential future applications of AI, including:\\n  - AI-powered healthcare and personalized medicine\\n  - AI-powered education and virtual teaching\\n  - AI-powered transportation and infrastructure management\\n\\n**VII. Conclusion**\\n\\n- Summary of the rise of AI and its impact on various industries and society\\n- Reflection on the benefits and challenges of AI and its potential for the future\\n- Final thoughts on the importance of understanding and embracing AI and its increasing importance in the world.\\n\\n**VIII. References**\\n\\n- List of sources cited in the blog post, including articles, books, and websites.\\n\\nThis outline provides a comprehensive structure for a blog post on the rise of AI in the world, covering its history, current applications, benefits, challenges, and future prospects.\"}\n"
     ]
    }
   ],
   "source": [
    "initial_state = {'title': \"rise of AI in world\"}\n",
    "\n",
    "final_state = workflow.invoke(initial_state)\n",
    "\n",
    "print(final_state)"
   ]
  },
  {
   "cell_type": "code",
   "execution_count": 9,
   "id": "42ef1ed6",
   "metadata": {},
   "outputs": [
    {
     "name": "stdout",
     "output_type": "stream",
     "text": [
      "**Title:** The Rise of AI in the World: Transforming Industries and Revolutionizing Lives\n",
      "\n",
      "**I. Introduction**\n",
      "\n",
      "- Brief overview of the increasing importance of AI in modern society\n",
      "- Importance of understanding the rise of AI and its impact on various industries\n",
      "- Thesis statement: The rise of AI is transforming the world, revolutionizing industries, and changing lives, and its impact will only continue to grow in the coming years.\n",
      "\n",
      "**II. History of AI: From its Humble Beginnings to the Present Day**\n",
      "\n",
      "- Overview of the early days of AI, including the development of the first AI programs and the Dartmouth Summer Research Project on Artificial Intelligence in 1956\n",
      "- Discussion of the key milestones in AI history, including the development of machine learning, natural language processing, and computer vision\n",
      "- Explanation of how AI has evolved over time and how it has become more sophisticated and integrated into various industries\n",
      "\n",
      "**III. The Current State of AI: Applications and Industries**\n",
      "\n",
      "- Overview of the current applications of AI, including:\n",
      "  - Virtual assistants (e.g. Siri, Alexa)\n",
      "  - Image recognition and facial recognition\n",
      "  - Natural language processing (e.g. chatbots, language translation)\n",
      "  - Predictive analytics and decision-making\n",
      "  - Autonomous vehicles and drones\n",
      "- Discussion of the industries that are being transformed by AI, including:\n",
      "  - Healthcare: diagnosis, treatment, and personalized medicine\n",
      "  - Finance: risk management, portfolio optimization, and customer service\n",
      "  - Education: personalized learning, adaptive learning, and virtual teaching\n",
      "  - Manufacturing: quality control, predictive maintenance, and supply chain optimization\n",
      "\n",
      "**IV. The Benefits of AI: Improved Efficiency, Accuracy, and Decision-Making**\n",
      "\n",
      "- Discussion of the benefits of AI, including:\n",
      "  - Improved efficiency and productivity\n",
      "  - Increased accuracy and reduced errors\n",
      "  - Enhanced decision-making and predictive capabilities\n",
      "  - Improved customer experience and engagement\n",
      "- Examples of companies that have successfully implemented AI and achieved significant benefits, including:\n",
      "  - Amazon's use of AI for customer service and recommendations\n",
      "  - Google's use of AI for image recognition and facial recognition\n",
      "  - IBM's use of AI for predictive analytics and decision-making\n",
      "\n",
      "**V. The Challenges and Concerns of AI: Ethics, Bias, and Job Displacement**\n",
      "\n",
      "- Discussion of the challenges and concerns surrounding AI, including:\n",
      "  - Bias and fairness in AI systems\n",
      "  - Job displacement and unemployment\n",
      "  - Ethics and accountability in AI development and deployment\n",
      "  - Cybersecurity risks and vulnerabilities\n",
      "- Examples of companies that have faced challenges and concerns related to AI, including:\n",
      "  - Google's use of AI for facial recognition and bias concerns\n",
      "  - Amazon's use of AI for hiring and bias concerns\n",
      "  - Uber's use of AI for autonomous vehicles and job displacement concerns\n",
      "\n",
      "**VI. The Future of AI: Opportunities and Challenges Ahead**\n",
      "\n",
      "- Discussion of the opportunities and challenges that lie ahead for AI, including:\n",
      "  - Increased adoption and integration of AI in various industries\n",
      "  - Development of more advanced and sophisticated AI technologies\n",
      "  - Growing concerns about bias, ethics, and job displacement\n",
      "  - Potential for AI to exacerbate existing social and economic inequalities\n",
      "- Examples of potential future applications of AI, including:\n",
      "  - AI-powered healthcare and personalized medicine\n",
      "  - AI-powered education and virtual teaching\n",
      "  - AI-powered transportation and infrastructure management\n",
      "\n",
      "**VII. Conclusion**\n",
      "\n",
      "- Summary of the rise of AI and its impact on various industries and society\n",
      "- Reflection on the benefits and challenges of AI and its potential for the future\n",
      "- Final thoughts on the importance of understanding and embracing AI and its increasing importance in the world.\n",
      "\n",
      "**VIII. References**\n",
      "\n",
      "- List of sources cited in the blog post, including articles, books, and websites.\n",
      "\n",
      "This outline provides a comprehensive structure for a blog post on the rise of AI in the world, covering its history, current applications, benefits, challenges, and future prospects.\n"
     ]
    }
   ],
   "source": [
    "print(final_state['outline'])"
   ]
  }
 ],
 "metadata": {
  "kernelspec": {
   "display_name": "myenv",
   "language": "python",
   "name": "python3"
  },
  "language_info": {
   "codemirror_mode": {
    "name": "ipython",
    "version": 3
   },
   "file_extension": ".py",
   "mimetype": "text/x-python",
   "name": "python",
   "nbconvert_exporter": "python",
   "pygments_lexer": "ipython3",
   "version": "3.13.5"
  }
 },
 "nbformat": 4,
 "nbformat_minor": 5
}
